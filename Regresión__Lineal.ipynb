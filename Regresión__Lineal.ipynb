{
  "nbformat": 4,
  "nbformat_minor": 0,
  "metadata": {
    "colab": {
      "provenance": [],
      "authorship_tag": "ABX9TyPpESImc13N+rAOY4DVxa9F",
      "include_colab_link": true
    },
    "kernelspec": {
      "name": "python3",
      "display_name": "Python 3"
    },
    "language_info": {
      "name": "python"
    }
  },
  "cells": [
    {
      "cell_type": "markdown",
      "metadata": {
        "id": "view-in-github",
        "colab_type": "text"
      },
      "source": [
        "<a href=\"https://colab.research.google.com/github/yarethdsuarezni/Regresion_Lineal/blob/main/Regresi%C3%B3n__Lineal.ipynb\" target=\"_parent\"><img src=\"https://colab.research.google.com/assets/colab-badge.svg\" alt=\"Open In Colab\"/></a>"
      ]
    },
    {
      "cell_type": "markdown",
      "source": [
        "# **Taller 3: Regresión Lineal y Conceptos Fundamentales**\n",
        "\n",
        "Autor: Yohana Andrea Beltran Rodriguez 122403, Claudia Patricia Castro Negron 119836, Yareth Daniela S. Niño 114459"
      ],
      "metadata": {
        "id": "qR77P_-KHYrg"
      }
    },
    {
      "cell_type": "markdown",
      "source": [
        "\n",
        "\n",
        "**Parte 1: Definición del Problema**\n",
        "\n",
        "Piensa en tu experiencia académica o laboral en un área de operaciones y elige un problema relacionado con inventarios, calidad, mantenimiento o productividad.\n",
        "\n",
        "Indica cuál es tu variable dependiente\n",
        " (aquello que quieres predecir o clasificar).\n",
        "Lista entre 3 y 5 variables independientes\n",
        " que medirías para predecir\n",
        ".\n",
        "Especifica si tu problema es de regresión (predecir un valor numérico) o de clasificación.\n",
        "Respuesta (escribe aquí):\n",
        "\n",
        "Respuesta 1:La variable dependiente Y es los dias de desabastecimiento de inventario, tiempo que tarda en agotarse un flex\n",
        "\n",
        "Respuesta 2:Las variables independientes\n",
        "x1: Demanda promedio Diaria\n",
        "x2: Inventario Inicial\n",
        "X3: Dias de reabastecer por parte del proveedor\n",
        "X4: Variacion de la demanda\n",
        "\n",
        "Respuesta 3: Si es problema de Regresion, debido a que debemos predecir un valor numerico  de tiempo en dias.\n",
        "\n",
        "\n",
        "\n"
      ],
      "metadata": {
        "id": "DFE11gBy1hYt"
      }
    },
    {
      "cell_type": "markdown",
      "source": [
        "**Parte 2: Preprocesamiento de Datos y *Leakage***\n",
        "\n",
        "Basado en el caso que definiste en la Parte 1:\n",
        "\n",
        "Lista entre 3 y 5 transformaciones que aplicarías a tus datos (ej. imputación de valores faltantes, codificación de variables categóricas, escalado, creación de lags, etc.) y justifica por qué cada una es necesaria.\n",
        "Señala un posible riesgo de data leakage (fuga de datos) en tu plan y explica cómo lo evitarías usando un pipeline de preprocesamiento.\n",
        "Respuesta (escribe aquí):\n",
        "\n",
        "\n",
        "**Imputación de valores faltantes:** si la base de datos tiene registros incompletos en la demanda o en el nivel de inventario, imputaría con la media o con técnicas más avanzadas para no perder observaciones.\n",
        "Evitar perder información valiosa y mantener el tamaño de la muestra.\n",
        "\n",
        "**Escalado de variables numéricas:** las variables como demanda (unidades/día) y tiempo de reposición (días) están en escalas diferentes.\n",
        "Los algoritmos de regresión lineal son sensibles a magnitudes muy distintas, y el escalado mejora la estabilidad del modelo.\n",
        "\n",
        "**Detección y tratamiento de outliers:** en la demanda diaria pueden existir valores atípicos (picos extraordinarios de ventas).\n",
        "Estos valores extremos podrían distorsionar los coeficientes de la regresión.\n",
        "\n",
        "**Codificación de variables categóricas**: si el producto tiene una categoría (A, B, C), aplicaría one-hot encoding.\n",
        "La regresión lineal necesita variables numéricas.\n",
        "\n",
        "Creación de variables derivadas: el inventario inicial/demanda diaria promedio.\n",
        "Esta variable resume la relación entre inventario y consumo, lo que puede mejorar la capacidad predictiva.\n"
      ],
      "metadata": {
        "id": "Sc0gmCtW1jPT"
      }
    },
    {
      "cell_type": "markdown",
      "source": [
        "**Parte 3: Interpretación y Métricas de Regresión Simple**\n",
        "\n",
        "Para esta sección, elige un caso simple de regresión (puede ser el tuyo o uno hipotético, como predecir la demanda de un producto según su precio).\n",
        "\n",
        "Define claramente las variables\n",
        " y\n",
        " junto con sus unidades (ej.\n",
        ": número de unidades vendidas,\n",
        ": precio en dólares).\n",
        "Supón que entrenas un modelo y obtienes una pendiente de\n",
        ". Escribe una interpretación clara y concisa de este coeficiente en el contexto de tu problema.\n",
        "¿Qué métrica de evaluación usarías (MAE, RMSE, o MAPE) y por qué es la más adecuada para tu caso?\n",
        "Menciona un supuesto del modelo de regresión lineal que validarías (ej. linealidad, homocedasticidad) y explica cómo lo harías (usando un gráfico o una prueba estadística).\n",
        "Respuesta (escribe aquí):\n",
        "\n",
        "1. Definicion de variables:\n",
        "Y Dias de desabastecimiento de inventario\n",
        "X Inventario Inicial\n",
        "\n",
        "2. Interpretacion  de la pendiente:\n",
        "\n",
        "Cada unidad adicional en el inventario inicial reduce el tiempo de desabastecimiento en 0.6 días, manteniendo constantes las demás variables. Esto indica que a mayor inventario inicial, menos tiempo tarda en agotarse el producto.\n",
        "\n",
        "3. Metrica de evalucion\n",
        "\n",
        "Root Mean Squared Error  \n",
        "Penaliza fuertemente los errores grandes en predicción, lo cual es crítico para el tiempo de desabastecimiento, ya que un error grande podría afectar la planificación de inventario y la operación logística.\n",
        "\n",
        "4. Supuesto del modelo a validar\n",
        "\n",
        "Linealidad: se asume que la relación entre inventario inicial X y tiempo de desabastecimiento Y es aproximadamente lineal.\n"
      ],
      "metadata": {
        "id": "XwwV5j7754PW"
      }
    },
    {
      "cell_type": "markdown",
      "source": [
        "\n",
        "**Parte 4: Regresión Múltiple y Colinealidad**\n",
        "\n",
        "\n",
        "Volviendo a tu caso de la Parte 1 (con múltiples variables).\n",
        "\n",
        "Escribe el vector de variables\n",
        " y la respuesta\n",
        ".\n",
        "Explica cómo interpretarías el coeficiente de una de tus variables clave (incluyendo unidades y el sentido de la relación: positiva o negativa).\n",
        "Si sospecharas que existe colinealidad entre tus variables, menciona dos acciones que podrías tomar para mitigarla.\n",
        "Respuesta (escribe aquí):\n",
        "\n",
        "Y: los dias de desabastecimiento de inventario\n",
        "\n",
        "1. Vector de variable y respuesta\n",
        "\n",
        "x1: Demanda promedio Diaria\n",
        "x2: Inventario Inicial\n",
        "X3: Dias de reabastecer por parte del proveedor\n",
        "X4: Variacion de la demanda\n",
        "\n",
        "\n",
        "\n",
        "2. Interpretacion\n",
        "\n",
        "X2 es de -0.5\n",
        "Por cada unidad adicional de inventario inicial, el tiempo de desabastecimiento disminuye en 0.5 días, manteniendo constantes las demás variables. La relación es negativa, como se esperaría: más inventario, menos riesgo de desabastecimiento.\n",
        "\n",
        "3. Acciones para mitigar\n",
        "\n",
        "Si la demanda promedio y la variabilidad de la demanda están muy correlacionadas, se puede crear una variable compuesta o eliminar una de ellas.\n",
        "\n",
        "como Ridge o Lasso, que reducen el impacto de variables altamente correlacionadas en los coeficientes del modelo.\n",
        "\n",
        "\n"
      ],
      "metadata": {
        "id": "RSwwHe2D7kxr"
      }
    },
    {
      "cell_type": "markdown",
      "source": [
        "\n",
        "**Parte 5: Interacciones y Multicolinealidad (VIF)**\n",
        "\n",
        "Plantea un caso con una variable\n",
        " y entre 4 y 6 variables\n",
        ". ¿Qué término de interacción entre dos variables podrías añadir al modelo y por qué crees que sería útil?\n",
        "Si al calcular el Factor de Inflación de la Varianza (VIF) para una variable, obtienes un valor alto (ej. > 10), menciona dos acciones que podrías tomar para solucionarlo.\n",
        "Respuesta (escribe aquí):\n",
        "\n",
        "\n",
        "\n",
        "1. Variables modelo\n",
        "\n",
        "Y= dias de desabastecimiento\n",
        "\n",
        "x1= Demanda promedio Diaria\n",
        "x2= Inventario Inicial\n",
        "X3= Dias de reabastecer por parte del proveedor\n",
        "X4= Variacion de la demanda\n",
        "x5= Número de operarios\n",
        "\n",
        "\n",
        "2. Interacción\n",
        "\n",
        "\n",
        "INVENTARIO INICIAL * DIAS DE REABASTECIMIENTO\n",
        "\n",
        "El efecto del nivel de inventario sobre el tiempo de desabastecimiento podría depender de cuánto tarda el proveedor en reponer el stock.\n",
        "\n",
        "\n",
        "Si el tiempo de reposición es largo, tener más inventario inicial reduce más significativamente el tiempo de desabastecimiento.\n",
        "\n",
        "\n",
        "2. Acciones\n",
        "\n",
        "Si “demanda diaria promedio” y “variabilidad de la demanda” están muy correlacionadas, podemos crear una sola variable que resuma la demanda ajustada por variabilidad.\n",
        "\n",
        "como Ridge o Lasso, que reducen el efecto de variables con alta colinealidad en los coeficientes, estabilizando el modelo.\n"
      ],
      "metadata": {
        "id": "S14xV5RZ9hNb"
      }
    },
    {
      "cell_type": "markdown",
      "source": [
        "\n",
        "**Parte 6: Variables Categóricas e Interacciones**\n",
        "\n",
        "Define una variable categórica para tu caso (puedes inventarla si no la tenías). Elige una de sus categorías como el nivel base o de referencia y justifica tu elección.\n",
        "Crea una interacción entre una variable numérica y la variable categórica que definiste. Explica cómo se interpretaría el coeficiente de esta interacción.\n",
        "Respuesta (escribe aquí):\n",
        "\n",
        "1. Variable categorica\n",
        "\n",
        "Tipo de transporte de pedido\n",
        "\n",
        "Camion\n",
        "Moto\n",
        "Avion\n",
        "\n",
        "Camion: es el medio de transporte más frecuente y representa la categoría de referencia para comparación.\n",
        "\n",
        "\n",
        "2. Interaccion entre variable\n",
        "\n",
        "Distancia de despacho = variable numerica\n",
        "\n",
        "interaccion = distancia* Tiempo\n",
        "\n",
        "\n",
        "Interpretación del coeficiente de la interacción\n",
        "\n",
        "Este coeficiente indica cómo cambia el efecto de la distancia sobre el tiempo de desabastecimiento dependiendo del tipo de transporte.\n",
        "\n",
        "Permite capturar efectos no lineales o dependientes del tipo de transporte en la predicción del tiempo.\n",
        "\n"
      ],
      "metadata": {
        "id": "QwH4sMevBHIT"
      }
    },
    {
      "cell_type": "markdown",
      "source": [
        "\n",
        "**Parte 7: Conceptos Clave de Clasificación**\n",
        "\n",
        "Aunque el taller se centra en regresión, estos conceptos son fundamentales en Machine Learning.\n",
        "\n",
        "Explica qué es la curva ROC y para qué se utiliza en un problema de clasificación.\n",
        "Define el concepto de accuracy (exactitud) y menciona una situación en la que podría ser una métrica engañosa.\n",
        "Describe qué es una matriz de confusión y cómo se interpretan sus componentes (Verdaderos Positivos, Falsos Positivos, Verdaderos Negativos, Falsos Negativos).\n",
        "Respuesta (escribe aquí):\n",
        "\n",
        "\n",
        "1. ROC\n",
        "\n",
        "La curva ROC es un gráfico que representa la capacidad de un modelo de clasificación para distinguir entre clases positivas y negativas.\n",
        "\n",
        "En el eje Y se representa la tasa de verdaderos positivos (TPR) y en el eje X la tasa de falsos positivos (FPR).\n",
        "\n",
        "Uso: ayuda a evaluar el desempeño del modelo en distintos umbrales de decisión y a comparar modelos. Un modelo ideal se acerca a la esquina superior izquierda del gráfico (TPR = 1, FPR = 0).\n",
        "\n",
        "\n",
        "\n",
        "2. Accuracy\n",
        "\n",
        "TP+ TN/ TP+TN+FP+FN\n",
        "\n",
        "si los datos están muy desbalanceados, por ejemplo 95% de la clase negativa y 5% positiva, un modelo que siempre predice la clase mayoritaria tendría 95% de accuracy pero no detectaría correctamente la clase minoritaria.\n",
        "\n",
        "\n",
        "3. Matriz\n",
        "\n",
        "Es una tabla que permite visualizar el desempeño de un modelo de clasificación. Sus componentes son:\n",
        "\n",
        "Verdaderos Positivos (TP): casos positivos correctamente clasificados.\n",
        "\n",
        "Falsos Positivos (FP): casos negativos incorrectamente clasificados como positivos.\n",
        "\n",
        "Verdaderos Negativos (TN): casos negativos correctamente clasificados.\n",
        "\n",
        "Falsos Negativos (FN): casos positivos incorrectamente clasificados como negativos.\n",
        "\n",
        "\n",
        "Permite calcular métricas como precision, recall, F1-score y evaluar dónde el modelo comete errores.\n",
        "\n"
      ],
      "metadata": {
        "id": "7snveN-yDa72"
      }
    }
  ]
}